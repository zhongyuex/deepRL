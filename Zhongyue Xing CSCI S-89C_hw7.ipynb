{
 "cells": [
  {
   "cell_type": "markdown",
   "metadata": {},
   "source": [
    "# Student Name: Zhongyue Xing"
   ]
  },
  {
   "cell_type": "markdown",
   "metadata": {},
   "source": [
    "# Preface"
   ]
  },
  {
   "cell_type": "markdown",
   "metadata": {},
   "source": [
    "In this problem we consider patients with end-stage liver disease (ESLD). We assume that patient's health condition is fully characterized by the Model for End-stage Liver Disease (MELD) score (Jae-Hyeon Ahn and John Hornberger, Involving patients in the cadaveric kidney transplant allocation process: a decision-theoretic perspective. Manage Sci. 1996;42(5):629–41).\n",
    "\n",
    "The MELD score ranges from 6 to 40 and is derived based on the probability of survival at 3 months for patients with ESLD. Data in ESLD is usually sparse and often aggregated into Stages. We assume that there are 18 stages based on the ESLD: Stage 1, Stage2, ..., Stage 18. The time step is 1 year and the actions in Stages 1 through 18 are \"wait\" and \"transplant\". \n",
    "\n",
    "We assume that the Markov property holds. There are three additional states of the Markov Decision Process: \"Pretransplant Death\", \"Posttransplant Life\" and \"Posttransplant Death\" with no actions available. Assume that the length of episodes is T=50. \"Pretransplant Death\" and \"Posttransplant Death\" are absorbing states (time stops).\n",
    "\n",
    "If patient selects \"wait\", the possible transitions are   \n",
    "1) Stage 1->Stage 1, Stage 1->Stage 2, Stage 1->Pretransplant Death  \n",
    "2) For k in {2,3,4,...17}, Stage k->Stage (k-1), Stage k->Stage k, Stage k->Stage (k+1), Stage k->Pretransplant Death  \n",
    "3) Stage 18->Stage 17, Stage 18->Stage 18, Stage 18->Pretransplant Death\n",
    "\n",
    "If a patient selects \"transplant\" in Stage k, k=1,2,...,18, the only possible transition is  \n",
    "4) Stage k->\"Posttransplant Life\"\n",
    "\n",
    "Finally, there is the transition  \n",
    "5) \"Posttransplant Life\"->\"Posttransplant Death\"  \n",
    "\n",
    "Assume that   \n",
    "\n",
    "P(Stage (k+1)|Stage k, \"wait\")=0.10 for k=1,2,...,17  \n",
    "P(Stage (k-1)|Stage k, \"wait\")=0.02 for k=2,3,...,18  \n",
    "\n",
    "P(Pretransplant Death|Stage k, \"wait\")=k*c for k=1,2,...,18 and some constant c.  \n",
    "\n",
    "P(Stage k|Stage k, \"wait\")=0.9-kc for k=1   \n",
    "P(Stage k|Stage k, \"wait\")=0.98-kc for k=18   \n",
    "P(Stage k|Stage k, \"wait\")=0.88-kc for k=2,...,17   \n",
    "\n",
    "Further, assume that   \n",
    "P(Posttransplant Death|Posttransplant Life)= 4*c for the same constant c.\n",
    "\n",
    "\n",
    "The patient gets reward 1 in all states \"Stage k\" (k=1,2,...,18) and reward 0.2 in the \"Posttransplant Life\" state. We assume the discounting parameter $\\gamma=0.97$, one of the most common discounting rate used in medical decision making (Gold MR, Siegel JE, Russell LB, Weinstein MC. Cost-Effectiveness in Health and Medicine. Oxford University Press; New York: 1996).\n"
   ]
  },
  {
   "cell_type": "markdown",
   "metadata": {},
   "source": [
    "# Problem 1 (15 points)\n",
    "Let policy $\\pi$ be \"wait\" in all states. Assume that the state-value function $v_\\pi(s)$ can be approximated by \n",
    "    \n",
    "$\\hat{v}_\\pi(s,{\\bf w})=w_1+w_2 \\cdot k\\cdot\\mathbb{1}_{\\{s=\\text{\"Stage k\"}\\}}+w_3 \\cdot \\mathbb{1}_{\\{s=\\text{\"Posttransplant Life\"}\\}}+w_4 \\cdot \\mathbb{1}_{\\{s=\\text{\"Posttransplant Death\"}\\}}+w_5 \\cdot \\mathbb{1}_{\\{s=\\text{\"Pretransplant Death\"}\\}}$,     \n",
    "    \n",
    "where ${\\bf w}=(w_1,w_2,w_3,w_4,w_5)^T$.\n",
    "\n",
    "\n",
    "For c = 0.015 estimate the the state-value function $v_\\pi(s)$ via the Gradient Monte Carlo Algorithm for Estimating $v_\\pi\\approx \\hat{v}$ (algorithm on p. 202 of \"Reinforcement Learning\" by Sutton and Barto). Output final results for $w_1$, $w_2$, $w_3$, $w_4$, and $w_5$. Plot $v_\\pi(\\{\\text{Stage k}\\})$ versus k. Discuss the results.  "
   ]
  },
  {
   "cell_type": "markdown",
   "metadata": {},
   "source": [
    "## Environment"
   ]
  },
  {
   "cell_type": "code",
   "execution_count": 5,
   "metadata": {},
   "outputs": [],
   "source": [
    "import numpy as np\n",
    "import random\n",
    "\n",
    "ESLD_STAGES = list(range(1, 19))\n",
    "\n",
    "class ESLD:\n",
    "    def __init__(self, stage, c = 0.015):\n",
    "        \"\"\"\n",
    "        Generate an ESLD model for a patient in stage 1-18 of ESLD.\n",
    "\n",
    "        If the patient is outside of stage 1-18, the patient is either dead\n",
    "        or in \"posttransplant life stage\", which is represented as stage 0.\n",
    "\n",
    "        Death is the terminal state of this model, it is stored as self.state = None.\n",
    "        Initialising a dead patient is not a valid input.\n",
    "        \n",
    "        \"\"\"\n",
    "        assert stage in range(19), \"stage must be 0-18 for live patient\"\n",
    "        self.state = stage\n",
    "        self.c = c\n",
    "        self.time = 0\n",
    "\n",
    "    def admissible_actions(self):\n",
    "        \"\"\" return all admissible actions for a state in the form of a list \"\"\"\n",
    "        if self.state in ESLD_STAGES:\n",
    "            return [0, 1] # 0 correspond to \"wait\", 1 correspond to \"transplant\"\n",
    "        elif self.state == 0:\n",
    "            return [None]\n",
    "        else:\n",
    "            print(self.state)\n",
    "            raise (ImplementationError, \"state should not exist\")\n",
    "    \n",
    "    def is_terminal(self):\n",
    "        return self.state == \"ND\" or self.state == \"TD\"\n",
    "\n",
    "    def get_reward(self, action):\n",
    "        if action == None:\n",
    "            # posttransplant life\n",
    "            assert self.state == 0, \"action only valid for post-transplant life\"\n",
    "            self.state = np.random.choice([0, \"TD\"], p = [1 - 4*self.c, 4*self.c])\n",
    "\n",
    "            if self.state == 0:\n",
    "                self.state = int(self.state)\n",
    "                reward = 0.2\n",
    "            else:\n",
    "                # posttransplant death\n",
    "                reward = 0\n",
    "\n",
    "        elif action == 1:\n",
    "            # transplant action\n",
    "            self.state = 0\n",
    "            reward = 0.2\n",
    "\n",
    "        elif action == 0:\n",
    "            # wait action\n",
    "            new_states = [self.state-1, self.state, self.state+1, \"ND\"]\n",
    "            p_new_states = [0.02, 0.88-self.c*self.state, 0.1, self.c*self.state]\n",
    "    \n",
    "            if self.state == 1:\n",
    "                p_new_states[1] += 0.02\n",
    "                del new_states[0]\n",
    "                del p_new_states[0]\n",
    "            elif self.state == 18:\n",
    "                p_new_states[1] += 0.1\n",
    "                del new_states[-2]\n",
    "                del p_new_states[-2]\n",
    "\n",
    "            self.state = np.random.choice(new_states, p = p_new_states)\n",
    "\n",
    "            if self.state == \"ND\":\n",
    "                # pretransplant (natural) death\n",
    "                reward = 0\n",
    "            else:\n",
    "                self.state = int(self.state)\n",
    "                reward = 1\n",
    "\n",
    "        else:\n",
    "            raise (TypeError, \"action\", action, \"is invalid for\", self.state)\n",
    "\n",
    "        self.time += 1\n",
    "        return reward"
   ]
  },
  {
   "cell_type": "markdown",
   "metadata": {},
   "source": [
    "## Test Cases"
   ]
  },
  {
   "cell_type": "code",
   "execution_count": 7,
   "metadata": {},
   "outputs": [],
   "source": [
    "# define test policy\n",
    "policy = {state:[1, 0] for state in ESLD_STAGES} # always choose action 0 which is \"wait\"\n",
    "policy[0] = [1]  # policy for posttransplant life is 100% pass\n",
    "\n",
    "# value function\n",
    "def v(state, w):\n",
    "    s = np.array([1, state*(state in ESLD_STAGES), state == 0, state == \"PD\", state == \"ND\"])\n",
    "    return np.dot(s, w)\n",
    "# partial derivitive of value function (by w)\n",
    "def dv(state, w):\n",
    "    s = np.array([1, state*(state in ESLD_STAGES), state == 0, state == \"PD\", state == \"ND\"])\n",
    "    return s"
   ]
  },
  {
   "cell_type": "markdown",
   "metadata": {},
   "source": [
    "## Algorithm and Output"
   ]
  },
  {
   "cell_type": "code",
   "execution_count": 7,
   "metadata": {},
   "outputs": [
    {
     "name": "stdout",
     "output_type": "stream",
     "text": [
      "Weight: [14.40460117 -1.07269066  0.          0.          0.        ]\n"
     ]
    },
    {
     "data": {
      "image/png": "[encoded data removed]",
      "text/plain": [
       "<Figure size 432x288 with 1 Axes>"
      ]
     },
     "metadata": {
      "needs_background": "light"
     },
     "output_type": "display_data"
    }
   ],
   "source": [
    "def generate_ESLD_episode(policy, stage = None):\n",
    "    if not stage:\n",
    "        stage = random.choice(ESLD_STAGES)\n",
    "    else:\n",
    "        assert stage in ESLD_STAGES\n",
    "    env = ESLD(stage)\n",
    "    record = {\"s\":[], \"a\":[], \"r\":[]}\n",
    "\n",
    "    while True:\n",
    "        record[\"s\"].append(env.state)\n",
    "\n",
    "        selected_action = np.random.choice(env.admissible_actions(), p = policy[env.state])\n",
    "        record[\"a\"].append(selected_action)\n",
    "\n",
    "        reward = env.get_reward(selected_action)\n",
    "        record[\"r\"].append(reward)\n",
    "\n",
    "        if env.is_terminal() or env.time >= 100: # patient lives no longer than 100 years post diagnosis\n",
    "            return record\n",
    "\n",
    "def gradient_MC_estimate(v, dv, policy, alpha = 0.001, gamma = 0.97, n_eps = 1000000):\n",
    "    w = np.zeros(5)  # initial value function weight\n",
    "\n",
    "    for eps in range(n_eps):\n",
    "        episode = generate_ESLD_episode(policy)\n",
    "        G = 0\n",
    "        t_max = len(episode[\"s\"])\n",
    "        for t in range(-1, -t_max-1, -1):\n",
    "            G = gamma*G + episode[\"r\"][t]  # reward time offset is embeded\n",
    "            s = episode[\"s\"][t]\n",
    "\n",
    "            w += alpha*(G - v(s, w))*dv(s, w)\n",
    "\n",
    "    return w\n",
    "\n",
    "\n",
    "n_eps = 1000000\n",
    "alpha = 0.001\n",
    "w = gradient_MC_estimate(v = lambda s, w: v(s, w), dv = lambda s, w: dv(s, w), policy = policy, alpha = alpha, n_eps = n_eps)\n",
    "print(\"Weight:\", w)\n",
    "\n",
    "from matplotlib import pyplot as plt\n",
    "plt.plot(ESLD_STAGES, [v(s, w) for s in ESLD_STAGES], label='α = {}'.format(alpha))\n",
    "plt.title('Gradient Monte Carlo Estimate of State Value on k ({} episodes)'.format(n_eps))\n",
    "plt.legend()\n",
    "plt.xticks(np.arange(1, 19, 1.0))\n",
    "plt.show()"
   ]
  },
  {
   "cell_type": "markdown",
   "metadata": {},
   "source": [
    "## Discussion\n",
    "The result shows a decreasing trend as expected since higher stage number (k) have higher chance of death which leads to lower state values. The result shows that for stage 13 and beyond the expected state value is negative, which is impossible for our model that does not contain negative reward. Such estimate is likely a result of the state estimate function s. s is chosen to be a linear function of k while the relationship between k and state value is non-linear. Additionally, the stochastic nature of this model may led to misfit of the model. "
   ]
  },
  {
   "cell_type": "markdown",
   "metadata": {},
   "source": [
    "# Problem 2 (10 points)\n",
    "Modify the algorithm you developed in Problem 1 and estimate the state-value function $v_\\pi(s)$ via the Semi-gradient TD(0) for estimating $v_\\pi\\approx \\hat{v}$ (algorithm on p. 203 of \"Reinforcement Learning\" by Sutton and Barto) for c=0.015. Output final results for $w_1$, $w_2$, $w_3$, $w_4$, and $w_5$. Plot $v_\\pi(\\{\\text{Stage k}\\})$ versus k. Discuss the results."
   ]
  },
  {
   "cell_type": "code",
   "execution_count": 20,
   "metadata": {},
   "outputs": [
    {
     "name": "stdout",
     "output_type": "stream",
     "text": [
      "Weight: [13.43810252 -0.97205488  0.          0.          0.        ]\n"
     ]
    },
    {
     "data": {
      "image/png": "[encoded data removed]",
      "text/plain": [
       "<Figure size 432x288 with 1 Axes>"
      ]
     },
     "metadata": {
      "needs_background": "light"
     },
     "output_type": "display_data"
    }
   ],
   "source": [
    "def semigradient_TD0_estimate(v, dv, policy, alpha = 0.001, gamma = 0.97, n_eps = 1000000):\n",
    "    w = np.zeros(5)  # initial value function weight\n",
    "\n",
    "    for eps in range(n_eps):\n",
    "        s = random.choice(ESLD_STAGES)\n",
    "        env = ESLD(s)\n",
    "\n",
    "        while True:\n",
    "            a = np.random.choice(env.admissible_actions(), p = policy[env.state])\n",
    "            r = env.get_reward(a)\n",
    "            s_next = env.state\n",
    "\n",
    "            if env.is_terminal() or env.time >= 100:\n",
    "                # s is the terminal state\n",
    "                w += alpha*(r - v(s, w))*dv(s, w)\n",
    "                break\n",
    "\n",
    "            else:\n",
    "                w += alpha*(r + gamma*v(s_next, w) - v(s, w))*dv(s, w)\n",
    "\n",
    "            s = env.state\n",
    "    return w\n",
    "\n",
    "n_eps = 1000000\n",
    "alpha = 0.001\n",
    "w = semigradient_TD0_estimate(v = lambda s, w: v(s, w), dv = lambda s, w: dv(s, w), policy = policy, alpha = alpha, n_eps = n_eps)\n",
    "print(\"Weight:\", w)\n",
    "\n",
    "\n",
    "from matplotlib import pyplot as plt\n",
    "plt.plot(ESLD_STAGES, [v(s, w) for s in ESLD_STAGES], label='α = {}'.format(alpha))\n",
    "plt.title('Semi-gradient TD(0) Estimate of State Value on k ({} episodes)'.format(n_eps))\n",
    "plt.legend()\n",
    "plt.xticks(np.arange(1, 19, 1.0))\n",
    "plt.show()"
   ]
  },
  {
   "cell_type": "markdown",
   "metadata": {},
   "source": [
    "## Discussion\n",
    "The semi-gradient TD(0) estimate converged to similar state value estimates when compared to the gradient Monte Carlo estimate. This is expected since the number of episode (amount of data generated) is sufficiently large for convergence. The speed of convergence for semi-gradient method may be slower due to its use of estimated future values instead of true future value (G)."
   ]
  },
  {
   "cell_type": "code",
   "execution_count": 11,
   "metadata": {},
   "outputs": [],
   "source": [
    "exit"
   ]
  }
 ],
 "metadata": {
  "anaconda-cloud": {},
  "kernelspec": {
   "display_name": "Python 3",
   "language": "python",
   "name": "python3"
  },
  "language_info": {
   "codemirror_mode": {
    "name": "ipython",
    "version": 3
   },
   "file_extension": ".py",
   "mimetype": "text/x-python",
   "name": "python",
   "nbconvert_exporter": "python",
   "pygments_lexer": "ipython3",
   "version": "3.6.8"
  }
 },
 "nbformat": 4,
 "nbformat_minor": 1
}
